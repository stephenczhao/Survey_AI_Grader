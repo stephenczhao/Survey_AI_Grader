{
 "cells": [
  {
   "cell_type": "code",
   "execution_count": 3,
   "metadata": {},
   "outputs": [
    {
     "name": "stdout",
     "output_type": "stream",
     "text": [
      "Grade: 9\n",
      "\n",
      "Feedback/Analysis:\n",
      "1. **Quality of Questioning**: The student consistently demonstrated high-quality questioning skills. Each query was purposefully crafted to deepen understanding of complex strategic and data science concepts. For instance, they cleverly asked for real-life examples and succinct descriptions to relate theoretical frameworks to practical scenarios, improving the substantive depth of the conversation.\n",
      "\n",
      "2. **Depth of Understanding**: The depth of understanding shown by the student was commendable. They were able to grasp intricate topics like Porter’s Five Forces, network effects versus economies of scale, and their applications in data strategies. The student’s ability to seek clarifications on overlapping concepts like the difference between competitive advantage and operational efficiency showed a keenness to differentiate and fully comprehend each idea.\n",
      "\n",
      "3. **Engagement with the Topic**: The student was thoroughly engaged with the topics, demonstrated by their sequence of follow-ups and requests for simplification to ensure a clear understanding. They effectively connected different aspects of business and data strategy, demonstrating a proactive approach in bridging these areas.\n",
      "\n",
      "Overall, the student showcased a proactive and highly engaged learning attitude, skillfully navigating through complex discussions around business strategies and data science applications. Their ability to tie theoretical concepts to real-world applications and request descriptive examples and simplifications further speaks to their in-depth engagement and understanding - meriting a high grade.\n",
      "\n",
      "Possible Areas for Improvement:\n",
      "- The student might benefit from slightly more focus on the implications of data strategies on specific business outcomes, pulling in more direct correlations to see the full impact.\n",
      "- While their engagement was excellent, pushing for even more detailed explorations of certain lesser-known concepts could provide fuller coverage and mastery of the topics.\n",
      "\n"
     ]
    }
   ],
   "source": [
    "import pandas as pd\n",
    "from openai import OpenAI\n",
    "\n",
    "# Set your OpenAI API key\n",
    "client = OpenAI(api_key='sk-...')\n",
    "\n",
    "def load_conversation(csv_file):\n",
    "    df = pd.read_csv(csv_file, header=None)\n",
    "    return df\n",
    "\n",
    "def generate_feedback(conversation_file, topics=\"\"):\n",
    "\n",
    "    conversation = load_conversation(conversation_file)\n",
    "    \n",
    "    # Combine user prompts (column 0) and AI responses (column 1) for the prompt\n",
    "    conversation_text = \"\\n\".join([f\"Student: {row[0]}\\nAI: {row[1]}\" for _, row in conversation.iterrows()])\n",
    "    \n",
    "    # Create a message for the API\n",
    "    messages = [\n",
    "        {\"role\": \"system\", \"content\": f\"You are an AI grader to evaluate student asslignments for a class called Data Science Applications in Business. In this assignment, students are asked to chat with AI chatbot to learn about relevant topics. Here are the topics they are expected to learn for this assignment: {topics}\"},\n",
    "        {\"role\": \"user\", \"content\": f\"\"\"\n",
    "        Below is the student's conversation with AI. Provide feedback/analysis on: quality of questioning, depth of understanding, and engagement with the topic. Grade the student's overall performance on a scale of 6 to 10, with 10 being the highest.Show the grade at the start of your response. \n",
    "        Here is the conversation:\n",
    "        {conversation_text}\n",
    "        \"\"\"}\n",
    "    ]\n",
    "    \n",
    "    # Call OpenAI API for feedback (non-streaming)\n",
    "    response = client.chat.completions.create(\n",
    "        model=\"gpt-4-turbo\",\n",
    "        messages=messages,\n",
    "    )\n",
    "    \n",
    "    return response.choices[0].message.content\n",
    "\n",
    "\n",
    "# load the file\n",
    "file = 'transcript1.csv'\n",
    "\n",
    "# Load topics for the assignment (copy from the class content page)\n",
    "topics = \"\"\"General Strategy\n",
    "SWOT, Porter’s Five Forces, KPIs\n",
    "The difference between Competitive Advantage and Operational Efficiency\n",
    "International Strategy: What other considerations are needed?\n",
    "What are network effects and how are they different from economies of scale?\n",
    "Data Strategy\n",
    "Keywords: Business Intelligence, Big Data, Automation, Embedded ML, Generative AI\n",
    "What are each of these things, and how do they relate to each other?\n",
    "What are the key technologies associated with each?\n",
    "How do each of these concepts map to general business strategies? I.e., what strategic goals could I achieve using \"Business Intelligence\"?\n",
    "Explore how a firm's culture impacts its practice of data science\n",
    "What types of corporate culture work best to facilitate successful data science projects?\n",
    "What kinds of activities do leaders need to engage in?\n",
    "What are some warning signs that firm culture is holding you back from using data science successfully?\n",
    "What is \"Data Governance\"? Use the prompt above but replace Business Strategy with Data Governance. \"\"\"\n",
    "\n",
    "\n",
    "\n",
    "feedback = generate_feedback('./Transcripts/transcript2.csv', topics = topics)\n",
    "print(feedback)\n"
   ]
  }
 ],
 "metadata": {
  "kernelspec": {
   "display_name": "base",
   "language": "python",
   "name": "python3"
  },
  "language_info": {
   "codemirror_mode": {
    "name": "ipython",
    "version": 3
   },
   "file_extension": ".py",
   "mimetype": "text/x-python",
   "name": "python",
   "nbconvert_exporter": "python",
   "pygments_lexer": "ipython3",
   "version": "3.12.2"
  }
 },
 "nbformat": 4,
 "nbformat_minor": 2
}
